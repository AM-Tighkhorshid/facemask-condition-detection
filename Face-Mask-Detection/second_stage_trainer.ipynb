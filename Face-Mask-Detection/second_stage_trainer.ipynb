{
  "nbformat": 4,
  "nbformat_minor": 0,
  "metadata": {
    "colab": {
      "name": "second_stage_trainer.ipynb",
      "provenance": [],
      "collapsed_sections": []
    },
    "kernelspec": {
      "name": "python3",
      "display_name": "Python 3"
    },
    "language_info": {
      "name": "python"
    }
  },
  "cells": [
    {
      "cell_type": "markdown",
      "metadata": {
        "id": "g_QQPCj7ADfG"
      },
      "source": [
        "**Part** **2**"
      ]
    },
    {
      "cell_type": "markdown",
      "metadata": {
        "id": "uBLUcSTmC6VC"
      },
      "source": [
        "### **Library**"
      ]
    },
    {
      "cell_type": "code",
      "metadata": {
        "id": "5EeUL-LCxSRr"
      },
      "source": [
        "#%tensorflow_version 1.x\n",
        "import xml.etree.ElementTree as ET\n",
        "import numpy as np\n",
        "import cv2\n",
        "import glob\n",
        "from google.colab.patches import cv2_imshow\n",
        "import tensorflow as tf\n",
        "\n",
        "from keras.layers import Input,Dense,Activation,Conv2D,AveragePooling2D,Flatten\n",
        "from keras.models import Model \n",
        "from tensorflow.keras.utils import to_categorical\n",
        "\n",
        "from keras.preprocessing.image import ImageDataGenerator\n",
        "\n",
        "from sklearn.model_selection import train_test_split\n",
        "import matplotlib as plt\n",
        "%matplotlib inline\n"
      ],
      "execution_count": null,
      "outputs": []
    },
    {
      "cell_type": "markdown",
      "metadata": {
        "id": "PoiK-UM7QFrf"
      },
      "source": [
        "**Neural** **Network**"
      ]
    },
    {
      "cell_type": "code",
      "metadata": {
        "id": "vMGp-7EjhG3J"
      },
      "source": [
        "images=glob.glob('/content/drive/MyDrive/data/images/*.jpg')\n",
        "images.sort()\n",
        "xmls=glob.glob('/content/drive/MyDrive/data/annotations/*.xml')\n",
        "xmls.sort()\n",
        "\n",
        "I = []\n",
        "label_img = []\n",
        "\n",
        "for xml_file in xmls:\n",
        "    print(\"xml_file\")\n",
        "    print(xml_file)\n",
        "    image_file = xml_file.replace('.xml','.jpg')\n",
        "    image_file = image_file.replace('annotations','images')\n",
        "    print(\"image_file\")\n",
        "    print(image_file)\n",
        "    print(\"-----------------------------\")\n",
        "    I1 = cv2.imread(image_file)\n",
        "\n",
        "    data_file = xml_file\n",
        "    tree = ET.parse(data_file)\n",
        "    root = tree.getroot()\n",
        "    i = 0\n",
        "    for x in root.iter('object'):\n",
        "        i = i + 1\n",
        "        label = x.find('name').text\n",
        "        xmin = x.find('bndbox/xmin').text\n",
        "        ymin = x.find('bndbox/ymin').text\n",
        "        xmax = x.find('bndbox/xmax').text\n",
        "        ymax = x.find('bndbox/ymax').text\n",
        "        \n",
        "        #print(\"---------------------\" )\n",
        "        #print(\"lable \" + label)\n",
        "        #print(\"xmin \" + xmin)\n",
        "        #print(\"ymin \" + ymin)\n",
        "        #print(\"xmax \" + xmax)\n",
        "        #print(\"ymax \" + ymax)\n",
        "\n",
        "        crop_img = I1[((int)(ymin)):((int)(ymax)), ((int)(xmin)):((int)(xmax))].copy()\n",
        "        #print(crop_img.shape)\n",
        "        dim = (32,35)\n",
        "        crop_img = cv2.resize(crop_img, dim, interpolation = cv2.INTER_AREA)\n",
        "\n",
        "        #label_list:\n",
        "        if label== 'without_mask':\n",
        "            label_img.append(0)\n",
        "        if label== 'with_mask':\n",
        "            label_img.append(1)\n",
        "        if label== 'mask_weared_incorrect':\n",
        "            label_img.append(2)\n",
        "        I.append(crop_img)\n",
        "        if i % 50 == 0:\n",
        "          print(str(i) + \"th epoch\")\n",
        "#convert list to array\n",
        "label_img = np.array(label_img)\n",
        "I = np.array(I)  "
      ],
      "execution_count": null,
      "outputs": []
    },
    {
      "cell_type": "code",
      "metadata": {
        "id": "L_srD3YHQPAH"
      },
      "source": [
        "#test and train:\n",
        "\n",
        "x_train, x_test, y_train, y_test  = train_test_split(I, label_img , test_size=0.2, shuffle=True, random_state=5)\n",
        "\n",
        "# #normalization:\n",
        "# x_train = x_train.astype('float32')/255\n",
        "# x_test = x_test.astype('float32')/255\n",
        "\n",
        "print(\"x_train shape is {}\".format( x_train.shape ))\n",
        "print(\"y_train shape is {}\".format( y_train.shape ))\n",
        "print(\"x_test shape is {}\".format( x_test.shape ))\n",
        "print(\"y_test shape is {}\".format( y_test.shape ))\n",
        "\n"
      ],
      "execution_count": null,
      "outputs": []
    },
    {
      "cell_type": "code",
      "source": [
        "a = [0,0,0]\n",
        "for i in range(x_train.shape[0]):\n",
        "    a[0] = a[0] + x_train[i].shape[0]\n",
        "    a[1] = a[1] + x_train[i].shape[1]"
      ],
      "metadata": {
        "id": "1ilafFuldoZ7"
      },
      "execution_count": null,
      "outputs": []
    },
    {
      "cell_type": "code",
      "metadata": {
        "id": "RGp1IHzsQdyG"
      },
      "source": [
        "y_train = to_categorical(y_train)\n",
        "y_test = to_categorical(y_test)"
      ],
      "execution_count": null,
      "outputs": []
    },
    {
      "cell_type": "code",
      "metadata": {
        "id": "KFmmqBcII-B-"
      },
      "source": [
        "from tensorflow.keras.preprocessing.image import ImageDataGenerator\n",
        "\n",
        "batch_size = 64\n",
        "target_size = (50, 50)\n",
        "\n",
        "train_datagen = ImageDataGenerator( rotation_range=10,\n",
        "                                    width_shift_range=0.2,\n",
        "                                    height_shift_range=0.2,\n",
        "                                    shear_range=0.1,\n",
        "                                    zoom_range=0.1,\n",
        "                                    channel_shift_range=0.0,\n",
        "                                    horizontal_flip=True,\n",
        "                                    vertical_flip=True,\n",
        "                                    rescale=1./255)\n",
        "\n",
        "test_datagen = ImageDataGenerator(rescale=1./255)\n",
        "\n",
        "train_generator = train_datagen.flow(x_train, y_train, batch_size=batch_size)\n",
        "\n",
        "validation_generator = test_datagen.flow(x_test, y_test, batch_size=batch_size)"
      ],
      "execution_count": null,
      "outputs": []
    },
    {
      "cell_type": "code",
      "metadata": {
        "id": "yGnBso3aF7JZ"
      },
      "source": [
        "def build_model(input_shape):\n",
        "  x_input = Input(shape =input_shape,name = 'input')\n",
        "\n",
        "  x = Conv2D(filters = 8,kernel_size = (5,5), strides = 1, padding = 'valid',name = 'conv1')(x_input)\n",
        "  x = Activation('relu')(x)\n",
        "  x = AveragePooling2D(pool_size =5,strides = 2,name = 'pad1')(x)\n",
        "\n",
        "\n",
        "  x = Conv2D(filters = 16,kernel_size = (5,5), strides = 1, padding = 'valid',name = 'conv2')(x)\n",
        "  x = Activation('relu')(x)\n",
        "  x = AveragePooling2D(pool_size =3,strides = 2,name = 'pad2')(x)\n",
        "\n",
        "\n",
        "  x = Conv2D(filters = 24,kernel_size = (5,5), strides = 1, padding = 'valid',name = 'conv3')(x)\n",
        "  x = Activation('relu')(x)\n",
        "  x = AveragePooling2D(pool_size =3,strides = 2,name = 'pad3')(x)\n",
        "\n",
        "  x = Flatten()(x)\n",
        "\n",
        "  x = Dense(units = 80, name = 'fc_1')(x)\n",
        "\n",
        "  x = Activation('relu', name = 'relu_1')(x)\n",
        "  # x = Dropout(rate = 0.5)\n",
        "\n",
        "  x = Dense(units = 50, name = 'fc_2')(x)\n",
        "  x = Activation('relu', name = 'relu_2')(x)\n",
        "  # x = Dropout(rate = 0.5)\n",
        "\n",
        "\n",
        "  x = Dense(units = 40, name = 'fc_3')(x)\n",
        "  x = Activation('relu', name = 'relu_3')(x)\n",
        "  # x = Dropout(rate = 0.5)\n",
        "\n",
        "\n",
        "  outputs = Dense(units =3,name = 'softmax', activation='softmax')(x)\n",
        "  \n",
        "  model = Model(inputs = x_input, outputs = outputs)\n",
        "  model.summary()\n",
        "\n",
        "  return model"
      ],
      "execution_count": null,
      "outputs": []
    },
    {
      "cell_type": "code",
      "metadata": {
        "colab": {
          "base_uri": "https://localhost:8080/"
        },
        "id": "Xp35e1qRIDoo",
        "outputId": "88271507-2e0e-4a8f-99a2-7728f2775c23"
      },
      "source": [
        "model = build_model(input_shape=(50,50,3))\n",
        "model.compile(optimizer = 'adam',loss = 'categorical_crossentropy' ,metrics = ['accuracy'])"
      ],
      "execution_count": null,
      "outputs": [
        {
          "output_type": "stream",
          "name": "stdout",
          "text": [
            "Model: \"model_5\"\n",
            "_________________________________________________________________\n",
            " Layer (type)                Output Shape              Param #   \n",
            "=================================================================\n",
            " input (InputLayer)          [(None, 30, 35, 3)]       0         \n",
            "                                                                 \n",
            " conv1 (Conv2D)              (None, 26, 31, 8)         608       \n",
            "                                                                 \n",
            " activation_25 (Activation)  (None, 26, 31, 8)         0         \n",
            "                                                                 \n",
            " pad1 (AveragePooling2D)     (None, 13, 16, 8)         0         \n",
            "                                                                 \n",
            " conv2 (Conv2D)              (None, 9, 12, 16)         3216      \n",
            "                                                                 \n",
            " activation_26 (Activation)  (None, 9, 12, 16)         0         \n",
            "                                                                 \n",
            " pad2 (AveragePooling2D)     (None, 5, 6, 16)          0         \n",
            "                                                                 \n",
            " conv3 (Conv2D)              (None, 1, 2, 24)          9624      \n",
            "                                                                 \n",
            " activation_27 (Activation)  (None, 1, 2, 24)          0         \n",
            "                                                                 \n",
            " pad3 (AveragePooling2D)     (None, 1, 1, 24)          0         \n",
            "                                                                 \n",
            " flatten_5 (Flatten)         (None, 24)                0         \n",
            "                                                                 \n",
            " fc_1 (Dense)                (None, 80)                2000      \n",
            "                                                                 \n",
            " relu_1 (Activation)         (None, 80)                0         \n",
            "                                                                 \n",
            " fc_2 (Dense)                (None, 50)                4050      \n",
            "                                                                 \n",
            " relu_2 (Activation)         (None, 50)                0         \n",
            "                                                                 \n",
            " fc_3 (Dense)                (None, 40)                2040      \n",
            "                                                                 \n",
            " relu_3 (Activation)         (None, 40)                0         \n",
            "                                                                 \n",
            " softmax (Dense)             (None, 3)                 123       \n",
            "                                                                 \n",
            "=================================================================\n",
            "Total params: 21,661\n",
            "Trainable params: 21,661\n",
            "Non-trainable params: 0\n",
            "_________________________________________________________________\n"
          ]
        }
      ]
    },
    {
      "cell_type": "code",
      "source": [
        "datagen = ImageDataGenerator(\n",
        "          rotation_range=30,\n",
        "          width_shift_range=0.2,\n",
        "          height_shift_range=0.2,\n",
        "          zoom_range=0.2,\n",
        "          horizontal_flip=True,\n",
        "          fill_mode='nearest')\n",
        "\n",
        "batch_size= 64\n",
        "# model.fit(x = x_train, y= y_train , batch_size=64, epochs = 10)\n",
        "results = model.fit_generator(datagen.flow(x_train, y_train, batch_size=batch_size),\n",
        "  validation_data=(x_test, y_test),                       \n",
        "\tsteps_per_epoch=len(y_train) // batch_size, epochs=250)"
      ],
      "metadata": {
        "id": "ld7-GJJJgLZx"
      },
      "execution_count": null,
      "outputs": []
    }
  ]
}